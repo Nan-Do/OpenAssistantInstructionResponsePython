{
 "cells": [
  {
   "cell_type": "markdown",
   "metadata": {
    "id": "jQg6hsMhbuod"
   },
   "source": [
    "### REQUIRED PIP INSTALLS"
   ]
  },
  {
   "cell_type": "code",
   "execution_count": null,
   "metadata": {
    "colab": {
     "base_uri": "https://localhost:8080/"
    },
    "id": "AagX97p36_7z",
    "outputId": "6ea54073-1385-44d3-81f3-0ac9abba190c"
   },
   "outputs": [],
   "source": [
    "!pip install transformers kaggle datasets tqdm"
   ]
  },
  {
   "cell_type": "markdown",
   "metadata": {
    "id": "K9sCPQzIb278"
   },
   "source": [
    "### DOWLOAD THE DATASET"
   ]
  },
  {
   "cell_type": "code",
   "execution_count": null,
   "metadata": {
    "id": "Im-RfeRablcJ",
    "scrolled": true
   },
   "outputs": [],
   "source": [
    "import kaggle\n",
    "from pathlib import Path\n",
    "\n",
    "def download_dataset_from_kaggle(path=\"data\"):\n",
    "    \"\"\"\n",
    "    Download the CodeSearchNet dataset from Kaggle.\n",
    "    Make sure to have the Kaggle API token in ~/.kaggle/kaggle.json\n",
    "\n",
    "    Returns:\n",
    "        str: Path to the downloaded dataset.\n",
    "    \"\"\"\n",
    "    path = Path(path)\n",
    "    path.parent.mkdir(parents=True, exist_ok=True)\n",
    "    kaggle.api.authenticate()\n",
    "    kaggle.api.dataset_download_files(\n",
    "        \"omduggineni/codesearchnet\", path=path, unzip=True\n",
    "    )\n",
    "    \n",
    "#download_dataset_from_kaggle()"
   ]
  },
  {
   "cell_type": "markdown",
   "metadata": {
    "id": "tDzmSa0loVOC"
   },
   "source": [
    "### LOAD THE DATASET"
   ]
  },
  {
   "cell_type": "code",
   "execution_count": 2,
   "metadata": {
    "colab": {
     "base_uri": "https://localhost:8080/",
     "height": 338
    },
    "id": "Z3GQ3tGYnM_z",
    "outputId": "fd76a782-2919-4dff-a1f4-d1ecef3b48b3"
   },
   "outputs": [
    {
     "name": "stderr",
     "output_type": "stream",
     "text": [
      "Found cached dataset json (/home/nando/.cache/huggingface/datasets/json/default-dea67a2e36b13223/0.0.0/e347ab1c932092252e717ff3f949105a4dd28b27e842dd53157d2f72e276c2e4)\n"
     ]
    },
    {
     "data": {
      "application/vnd.jupyter.widget-view+json": {
       "model_id": "bbd1014a879249a6a1b34ecf5595e665",
       "version_major": 2,
       "version_minor": 0
      },
      "text/plain": [
       "  0%|          | 0/3 [00:00<?, ?it/s]"
      ]
     },
     "metadata": {},
     "output_type": "display_data"
    }
   ],
   "source": [
    "import glob\n",
    "\n",
    "from datasets import load_dataset\n",
    "from pathlib import Path\n",
    "\n",
    "LANG = 'python'\n",
    "\n",
    "def load_local_dataset(lang=\"all\", path=\"data\"):\n",
    "    \"\"\"\n",
    "    Load a local dataset from the downloaded Kaggle dataset.\n",
    "\n",
    "    Args:\n",
    "        lang (str): The language to be used for the dataset.\n",
    "        path (str, optional): Path to the downloaded dataset. Defaults to \"data\".\n",
    "\n",
    "    Returns:\n",
    "        Dataset: dataset loaded from local files\n",
    "    \"\"\"\n",
    "    path = Path(path)\n",
    "\n",
    "    if lang != \"all\":\n",
    "        # Read the downloaded dataset\n",
    "        path = path / lang / lang / \"final/jsonl\"\n",
    "        dataset = load_dataset(\n",
    "            \"json\",\n",
    "            data_files={\n",
    "                \"train\": glob.glob(path.as_posix() + \"/train/*.jsonl\"),\n",
    "                \"validation\": glob.glob(path.as_posix() + \"/valid/*.jsonl\"),\n",
    "                \"test\": glob.glob(path.as_posix() + \"/test/*.jsonl\"),\n",
    "            },\n",
    "        )\n",
    "    else:\n",
    "        train_files = glob.glob(path.as_posix() + \"/**/train/*.jsonl\", recursive=True)\n",
    "        valid_files = glob.glob(path.as_posix() + \"/**/valid/*.jsonl\", recursive=True)\n",
    "        test_files = glob.glob(path.as_posix() + \"/**/test/*.jsonl\", recursive=True)\n",
    "        dataset = load_dataset(\n",
    "            \"json\",\n",
    "            data_files={\n",
    "                \"train\": train_files,\n",
    "                \"validation\": valid_files,\n",
    "                \"test\": test_files,\n",
    "            },\n",
    "        )\n",
    "\n",
    "    return dataset\n",
    "\n",
    "dataset = load_local_dataset(LANG)"
   ]
  },
  {
   "cell_type": "markdown",
   "metadata": {
    "id": "iRzz39jDb8AT"
   },
   "source": [
    "### LOAD THE MODEL"
   ]
  },
  {
   "cell_type": "code",
   "execution_count": 4,
   "metadata": {
    "colab": {
     "base_uri": "https://localhost:8080/",
     "height": 737
    },
    "id": "KkTFNYCi6-PO",
    "outputId": "0720883a-203a-4f84-e949-ceb18f97c29d"
   },
   "outputs": [],
   "source": [
    "from transformers import RobertaTokenizer, T5ForConditionalGeneration\n",
    "tokenizer = RobertaTokenizer.from_pretrained('Salesforce/codet5-base', truncation_side='right')\n",
    "#tokenizer = RobertaTokenizer.from_pretrained('Salesforce/codet5-base')\n",
    "model = T5ForConditionalGeneration.from_pretrained(f'Salesforce/codet5-base-codexglue-sum-{LANG}').to(\"cuda\")"
   ]
  },
  {
   "cell_type": "markdown",
   "metadata": {
    "id": "3MxfnNxX2n0m"
   },
   "source": [
    "### GENERATE THE SUMMARIES AND ANOTATE THE DATASET"
   ]
  },
  {
   "cell_type": "code",
   "execution_count": null,
   "metadata": {
    "colab": {
     "background_save": true,
     "base_uri": "https://localhost:8080/",
     "height": 49,
     "referenced_widgets": [
      "626ca9f003124c4d944ea9fd42676c29",
      "96cb83e7ccc242819b960858d95bc5e7",
      "866dcc655c5047f89b282440490a6f05",
      "9916789818aa4511af6f47a3d6d4b46c",
      "14a95bc6b9ca4d24b82ee41dbd89776d",
      "2b643b3f54834c289ae55f47a2ded02b",
      "59aeca8be5984e9496a0950d4396b33b",
      "b690bb51a2614cb0aef419f2001d3be3",
      "1f6cafc65487422dbdeb03ebc4da7cc3",
      "a7c4016479794b7490e023b86734b0b0",
      "b3b329226a2a42948bfb6c0c7cb13576"
     ]
    },
    "id": "LtmFMCPVuf3j",
    "outputId": "4bc0143f-ff8c-4a15-be2e-9976d73ac56c"
   },
   "outputs": [
    {
     "data": {
      "application/vnd.jupyter.widget-view+json": {
       "model_id": "1421c15593ef43919bb1172f2a676a7c",
       "version_major": 2,
       "version_minor": 0
      },
      "text/plain": [
       "  0%|          | 0/12881 [00:00<?, ?it/s]"
      ]
     },
     "metadata": {},
     "output_type": "display_data"
    }
   ],
   "source": [
    "from torch.utils.data import DataLoader\n",
    "from tqdm.auto import tqdm\n",
    "import json\n",
    "\n",
    "BATCH_SIZE = 32\n",
    "PARTITION = 'train'\n",
    "#all_summaries = []\n",
    "\n",
    "def tokenization_collator(batch_sample):\n",
    "  code = list(map(lambda x: x['original_string'], batch_sample))\n",
    "  return tokenizer(code, \n",
    "                   return_tensors='pt', \n",
    "                   padding='longest', \n",
    "                   truncation=True).input_ids.to('cuda')\n",
    "\n",
    "\n",
    "for PARTITION in ['train', 'test', 'validation']:\n",
    "  dataloader = DataLoader(dataset[PARTITION], \n",
    "                          batch_size=BATCH_SIZE, \n",
    "                          collate_fn=tokenization_collator)\n",
    "\n",
    "  with open(PARTITION + f'-{LANG}.jsonl', 'w') as f:\n",
    "    for batch_num, batch_data in tqdm(enumerate(iter(dataloader)), \n",
    "                                      total=(len(dataset[PARTITION]) // BATCH_SIZE) + 1):\n",
    "      \n",
    "      generated_ids = model.generate(batch_data, max_length=1024)\n",
    "      summaries = tokenizer.batch_decode(generated_ids.squeeze(), \n",
    "                                         skip_special_tokens=True)\n",
    "      \n",
    "      #all_summaries.extend(summaries)\n",
    "      for summary in summaries:\n",
    "        f.write(json.dumps({'summary': summary}))\n",
    "        f.write('\\n')"
   ]
  },
  {
   "cell_type": "code",
   "execution_count": 4,
   "metadata": {},
   "outputs": [],
   "source": [
    "import gzip, json\n",
    "\n",
    "with gzip.open(f'dataset_{LANG}.jsonl.gz', 'w') as w:\n",
    "  for PARTITION in ['train', 'test', 'validation']:\n",
    "    with open(PARTITION + f'-{LANG}.jsonl') as f:\n",
    "      for line_pos, line in enumerate(f.readlines()):\n",
    "        summary = json.loads(line)\n",
    "        if len(summary['summary']) > 350:\n",
    "            continue\n",
    "            \n",
    "        d = dataset[PARTITION][line_pos].copy()\n",
    "        d.update(summary)\n",
    "        b = json.dumps(d)\n",
    "        w.write(b.encode('UTF-8'))\n",
    "        w.write('\\n'.encode('UTF-8'))\n"
   ]
  },
  {
   "cell_type": "code",
   "execution_count": 5,
   "metadata": {},
   "outputs": [
    {
     "data": {
      "application/vnd.jupyter.widget-view+json": {
       "model_id": "1ead7c568c5d42bdb81bd0e396f9741d",
       "version_major": 2,
       "version_minor": 0
      },
      "text/plain": [
       "VBox(children=(HTML(value='<center> <img\\nsrc=https://huggingface.co/front/assets/huggingface_logo-noborder.sv…"
      ]
     },
     "metadata": {},
     "output_type": "display_data"
    }
   ],
   "source": [
    "from huggingface_hub import notebook_login\n",
    "\n",
    "notebook_login()"
   ]
  },
  {
   "cell_type": "code",
   "execution_count": 6,
   "metadata": {},
   "outputs": [
    {
     "name": "stdout",
     "output_type": "stream",
     "text": [
      "Downloading and preparing dataset json/default to /home/nando/.cache/huggingface/datasets/json/default-8d86563eb7816a96/0.0.0/e347ab1c932092252e717ff3f949105a4dd28b27e842dd53157d2f72e276c2e4...\n"
     ]
    },
    {
     "data": {
      "application/vnd.jupyter.widget-view+json": {
       "model_id": "c8c92ca81f754cf89279c60ece3822ed",
       "version_major": 2,
       "version_minor": 0
      },
      "text/plain": [
       "Downloading data files:   0%|          | 0/1 [00:00<?, ?it/s]"
      ]
     },
     "metadata": {},
     "output_type": "display_data"
    },
    {
     "data": {
      "application/vnd.jupyter.widget-view+json": {
       "model_id": "042d35fea1ef4f429457c5963036e9c5",
       "version_major": 2,
       "version_minor": 0
      },
      "text/plain": [
       "Extracting data files:   0%|          | 0/1 [00:00<?, ?it/s]"
      ]
     },
     "metadata": {},
     "output_type": "display_data"
    },
    {
     "data": {
      "application/vnd.jupyter.widget-view+json": {
       "model_id": "",
       "version_major": 2,
       "version_minor": 0
      },
      "text/plain": [
       "Generating train split: 0 examples [00:00, ? examples/s]"
      ]
     },
     "metadata": {},
     "output_type": "display_data"
    },
    {
     "name": "stdout",
     "output_type": "stream",
     "text": [
      "Dataset json downloaded and prepared to /home/nando/.cache/huggingface/datasets/json/default-8d86563eb7816a96/0.0.0/e347ab1c932092252e717ff3f949105a4dd28b27e842dd53157d2f72e276c2e4. Subsequent calls will reuse this data.\n"
     ]
    },
    {
     "data": {
      "application/vnd.jupyter.widget-view+json": {
       "model_id": "17c054cdfb1d4a84be0071788c039adb",
       "version_major": 2,
       "version_minor": 0
      },
      "text/plain": [
       "  0%|          | 0/1 [00:00<?, ?it/s]"
      ]
     },
     "metadata": {},
     "output_type": "display_data"
    },
    {
     "name": "stderr",
     "output_type": "stream",
     "text": [
      "Pushing split train to the Hub.\n"
     ]
    },
    {
     "data": {
      "application/vnd.jupyter.widget-view+json": {
       "model_id": "e3d8e82301a84b618a3a63182fbc3d21",
       "version_major": 2,
       "version_minor": 0
      },
      "text/plain": [
       "Pushing dataset shards to the dataset hub:   0%|          | 0/4 [00:00<?, ?it/s]"
      ]
     },
     "metadata": {},
     "output_type": "display_data"
    },
    {
     "data": {
      "application/vnd.jupyter.widget-view+json": {
       "model_id": "5463218ed5e24363ad4fe67f616c947d",
       "version_major": 2,
       "version_minor": 0
      },
      "text/plain": [
       "Creating parquet from Arrow format:   0%|          | 0/114 [00:00<?, ?ba/s]"
      ]
     },
     "metadata": {},
     "output_type": "display_data"
    },
    {
     "data": {
      "application/vnd.jupyter.widget-view+json": {
       "model_id": "30de36bcf0374a0680193a06ad3214eb",
       "version_major": 2,
       "version_minor": 0
      },
      "text/plain": [
       "Upload 1 LFS files:   0%|          | 0/1 [00:00<?, ?it/s]"
      ]
     },
     "metadata": {},
     "output_type": "display_data"
    },
    {
     "data": {
      "application/vnd.jupyter.widget-view+json": {
       "model_id": "da278386252c4e34a16f0823d5e63576",
       "version_major": 2,
       "version_minor": 0
      },
      "text/plain": [
       "Creating parquet from Arrow format:   0%|          | 0/114 [00:00<?, ?ba/s]"
      ]
     },
     "metadata": {},
     "output_type": "display_data"
    },
    {
     "data": {
      "application/vnd.jupyter.widget-view+json": {
       "model_id": "ba56ab9d769c45d6bcba9f781db21a76",
       "version_major": 2,
       "version_minor": 0
      },
      "text/plain": [
       "Upload 1 LFS files:   0%|          | 0/1 [00:00<?, ?it/s]"
      ]
     },
     "metadata": {},
     "output_type": "display_data"
    },
    {
     "data": {
      "application/vnd.jupyter.widget-view+json": {
       "model_id": "9d0fd7c095f649c9bcede95c6a72f999",
       "version_major": 2,
       "version_minor": 0
      },
      "text/plain": [
       "Creating parquet from Arrow format:   0%|          | 0/114 [00:00<?, ?ba/s]"
      ]
     },
     "metadata": {},
     "output_type": "display_data"
    },
    {
     "data": {
      "application/vnd.jupyter.widget-view+json": {
       "model_id": "499ea17352d54aff895ca81c2eca12bd",
       "version_major": 2,
       "version_minor": 0
      },
      "text/plain": [
       "Upload 1 LFS files:   0%|          | 0/1 [00:00<?, ?it/s]"
      ]
     },
     "metadata": {},
     "output_type": "display_data"
    },
    {
     "data": {
      "application/vnd.jupyter.widget-view+json": {
       "model_id": "99fb3995d32c4cee906d3968edafc1c9",
       "version_major": 2,
       "version_minor": 0
      },
      "text/plain": [
       "Creating parquet from Arrow format:   0%|          | 0/114 [00:00<?, ?ba/s]"
      ]
     },
     "metadata": {},
     "output_type": "display_data"
    },
    {
     "data": {
      "application/vnd.jupyter.widget-view+json": {
       "model_id": "716e8f828a5349c6a93dc650a2e5eb78",
       "version_major": 2,
       "version_minor": 0
      },
      "text/plain": [
       "Upload 1 LFS files:   0%|          | 0/1 [00:00<?, ?it/s]"
      ]
     },
     "metadata": {},
     "output_type": "display_data"
    }
   ],
   "source": [
    "processed_dataset = load_dataset('json', data_files=f'./dataset_{LANG}.jsonl.gz')\n",
    "processed_dataset.push_to_hub(f'Nan-Do/code-search-net-{LANG}')"
   ]
  },
  {
   "cell_type": "code",
   "execution_count": null,
   "metadata": {},
   "outputs": [],
   "source": []
  }
 ],
 "metadata": {
  "accelerator": "GPU",
  "colab": {
   "collapsed_sections": [
    "jQg6hsMhbuod",
    "K9sCPQzIb278",
    "tDzmSa0loVOC",
    "iRzz39jDb8AT"
   ],
   "machine_shape": "hm",
   "provenance": []
  },
  "gpuClass": "standard",
  "kernelspec": {
   "display_name": "Python 3 (ipykernel)",
   "language": "python",
   "name": "python3"
  },
  "language_info": {
   "codemirror_mode": {
    "name": "ipython",
    "version": 3
   },
   "file_extension": ".py",
   "mimetype": "text/x-python",
   "name": "python",
   "nbconvert_exporter": "python",
   "pygments_lexer": "ipython3",
   "version": "3.10.9"
  },
  "widgets": {
   "application/vnd.jupyter.widget-state+json": {
    "14a95bc6b9ca4d24b82ee41dbd89776d": {
     "model_module": "@jupyter-widgets/base",
     "model_module_version": "1.2.0",
     "model_name": "LayoutModel",
     "state": {
      "_model_module": "@jupyter-widgets/base",
      "_model_module_version": "1.2.0",
      "_model_name": "LayoutModel",
      "_view_count": null,
      "_view_module": "@jupyter-widgets/base",
      "_view_module_version": "1.2.0",
      "_view_name": "LayoutView",
      "align_content": null,
      "align_items": null,
      "align_self": null,
      "border": null,
      "bottom": null,
      "display": null,
      "flex": null,
      "flex_flow": null,
      "grid_area": null,
      "grid_auto_columns": null,
      "grid_auto_flow": null,
      "grid_auto_rows": null,
      "grid_column": null,
      "grid_gap": null,
      "grid_row": null,
      "grid_template_areas": null,
      "grid_template_columns": null,
      "grid_template_rows": null,
      "height": null,
      "justify_content": null,
      "justify_items": null,
      "left": null,
      "margin": null,
      "max_height": null,
      "max_width": null,
      "min_height": null,
      "min_width": null,
      "object_fit": null,
      "object_position": null,
      "order": null,
      "overflow": null,
      "overflow_x": null,
      "overflow_y": null,
      "padding": null,
      "right": null,
      "top": null,
      "visibility": null,
      "width": null
     }
    },
    "1f6cafc65487422dbdeb03ebc4da7cc3": {
     "model_module": "@jupyter-widgets/controls",
     "model_module_version": "1.5.0",
     "model_name": "ProgressStyleModel",
     "state": {
      "_model_module": "@jupyter-widgets/controls",
      "_model_module_version": "1.5.0",
      "_model_name": "ProgressStyleModel",
      "_view_count": null,
      "_view_module": "@jupyter-widgets/base",
      "_view_module_version": "1.2.0",
      "_view_name": "StyleView",
      "bar_color": null,
      "description_width": ""
     }
    },
    "2b643b3f54834c289ae55f47a2ded02b": {
     "model_module": "@jupyter-widgets/base",
     "model_module_version": "1.2.0",
     "model_name": "LayoutModel",
     "state": {
      "_model_module": "@jupyter-widgets/base",
      "_model_module_version": "1.2.0",
      "_model_name": "LayoutModel",
      "_view_count": null,
      "_view_module": "@jupyter-widgets/base",
      "_view_module_version": "1.2.0",
      "_view_name": "LayoutView",
      "align_content": null,
      "align_items": null,
      "align_self": null,
      "border": null,
      "bottom": null,
      "display": null,
      "flex": null,
      "flex_flow": null,
      "grid_area": null,
      "grid_auto_columns": null,
      "grid_auto_flow": null,
      "grid_auto_rows": null,
      "grid_column": null,
      "grid_gap": null,
      "grid_row": null,
      "grid_template_areas": null,
      "grid_template_columns": null,
      "grid_template_rows": null,
      "height": null,
      "justify_content": null,
      "justify_items": null,
      "left": null,
      "margin": null,
      "max_height": null,
      "max_width": null,
      "min_height": null,
      "min_width": null,
      "object_fit": null,
      "object_position": null,
      "order": null,
      "overflow": null,
      "overflow_x": null,
      "overflow_y": null,
      "padding": null,
      "right": null,
      "top": null,
      "visibility": null,
      "width": null
     }
    },
    "59aeca8be5984e9496a0950d4396b33b": {
     "model_module": "@jupyter-widgets/controls",
     "model_module_version": "1.5.0",
     "model_name": "DescriptionStyleModel",
     "state": {
      "_model_module": "@jupyter-widgets/controls",
      "_model_module_version": "1.5.0",
      "_model_name": "DescriptionStyleModel",
      "_view_count": null,
      "_view_module": "@jupyter-widgets/base",
      "_view_module_version": "1.2.0",
      "_view_name": "StyleView",
      "description_width": ""
     }
    },
    "626ca9f003124c4d944ea9fd42676c29": {
     "model_module": "@jupyter-widgets/controls",
     "model_module_version": "1.5.0",
     "model_name": "HBoxModel",
     "state": {
      "_dom_classes": [],
      "_model_module": "@jupyter-widgets/controls",
      "_model_module_version": "1.5.0",
      "_model_name": "HBoxModel",
      "_view_count": null,
      "_view_module": "@jupyter-widgets/controls",
      "_view_module_version": "1.5.0",
      "_view_name": "HBoxView",
      "box_style": "",
      "children": [
       "IPY_MODEL_96cb83e7ccc242819b960858d95bc5e7",
       "IPY_MODEL_866dcc655c5047f89b282440490a6f05",
       "IPY_MODEL_9916789818aa4511af6f47a3d6d4b46c"
      ],
      "layout": "IPY_MODEL_14a95bc6b9ca4d24b82ee41dbd89776d"
     }
    },
    "866dcc655c5047f89b282440490a6f05": {
     "model_module": "@jupyter-widgets/controls",
     "model_module_version": "1.5.0",
     "model_name": "FloatProgressModel",
     "state": {
      "_dom_classes": [],
      "_model_module": "@jupyter-widgets/controls",
      "_model_module_version": "1.5.0",
      "_model_name": "FloatProgressModel",
      "_view_count": null,
      "_view_module": "@jupyter-widgets/controls",
      "_view_module_version": "1.5.0",
      "_view_name": "ProgressView",
      "bar_style": "",
      "description": "",
      "description_tooltip": null,
      "layout": "IPY_MODEL_b690bb51a2614cb0aef419f2001d3be3",
      "max": 6441,
      "min": 0,
      "orientation": "horizontal",
      "style": "IPY_MODEL_1f6cafc65487422dbdeb03ebc4da7cc3",
      "value": 1
     }
    },
    "96cb83e7ccc242819b960858d95bc5e7": {
     "model_module": "@jupyter-widgets/controls",
     "model_module_version": "1.5.0",
     "model_name": "HTMLModel",
     "state": {
      "_dom_classes": [],
      "_model_module": "@jupyter-widgets/controls",
      "_model_module_version": "1.5.0",
      "_model_name": "HTMLModel",
      "_view_count": null,
      "_view_module": "@jupyter-widgets/controls",
      "_view_module_version": "1.5.0",
      "_view_name": "HTMLView",
      "description": "",
      "description_tooltip": null,
      "layout": "IPY_MODEL_2b643b3f54834c289ae55f47a2ded02b",
      "placeholder": "​",
      "style": "IPY_MODEL_59aeca8be5984e9496a0950d4396b33b",
      "value": "  0%"
     }
    },
    "9916789818aa4511af6f47a3d6d4b46c": {
     "model_module": "@jupyter-widgets/controls",
     "model_module_version": "1.5.0",
     "model_name": "HTMLModel",
     "state": {
      "_dom_classes": [],
      "_model_module": "@jupyter-widgets/controls",
      "_model_module_version": "1.5.0",
      "_model_name": "HTMLModel",
      "_view_count": null,
      "_view_module": "@jupyter-widgets/controls",
      "_view_module_version": "1.5.0",
      "_view_name": "HTMLView",
      "description": "",
      "description_tooltip": null,
      "layout": "IPY_MODEL_a7c4016479794b7490e023b86734b0b0",
      "placeholder": "​",
      "style": "IPY_MODEL_b3b329226a2a42948bfb6c0c7cb13576",
      "value": " 1/6441 [00:10&lt;18:30:15, 10.34s/it]"
     }
    },
    "a7c4016479794b7490e023b86734b0b0": {
     "model_module": "@jupyter-widgets/base",
     "model_module_version": "1.2.0",
     "model_name": "LayoutModel",
     "state": {
      "_model_module": "@jupyter-widgets/base",
      "_model_module_version": "1.2.0",
      "_model_name": "LayoutModel",
      "_view_count": null,
      "_view_module": "@jupyter-widgets/base",
      "_view_module_version": "1.2.0",
      "_view_name": "LayoutView",
      "align_content": null,
      "align_items": null,
      "align_self": null,
      "border": null,
      "bottom": null,
      "display": null,
      "flex": null,
      "flex_flow": null,
      "grid_area": null,
      "grid_auto_columns": null,
      "grid_auto_flow": null,
      "grid_auto_rows": null,
      "grid_column": null,
      "grid_gap": null,
      "grid_row": null,
      "grid_template_areas": null,
      "grid_template_columns": null,
      "grid_template_rows": null,
      "height": null,
      "justify_content": null,
      "justify_items": null,
      "left": null,
      "margin": null,
      "max_height": null,
      "max_width": null,
      "min_height": null,
      "min_width": null,
      "object_fit": null,
      "object_position": null,
      "order": null,
      "overflow": null,
      "overflow_x": null,
      "overflow_y": null,
      "padding": null,
      "right": null,
      "top": null,
      "visibility": null,
      "width": null
     }
    },
    "b3b329226a2a42948bfb6c0c7cb13576": {
     "model_module": "@jupyter-widgets/controls",
     "model_module_version": "1.5.0",
     "model_name": "DescriptionStyleModel",
     "state": {
      "_model_module": "@jupyter-widgets/controls",
      "_model_module_version": "1.5.0",
      "_model_name": "DescriptionStyleModel",
      "_view_count": null,
      "_view_module": "@jupyter-widgets/base",
      "_view_module_version": "1.2.0",
      "_view_name": "StyleView",
      "description_width": ""
     }
    },
    "b690bb51a2614cb0aef419f2001d3be3": {
     "model_module": "@jupyter-widgets/base",
     "model_module_version": "1.2.0",
     "model_name": "LayoutModel",
     "state": {
      "_model_module": "@jupyter-widgets/base",
      "_model_module_version": "1.2.0",
      "_model_name": "LayoutModel",
      "_view_count": null,
      "_view_module": "@jupyter-widgets/base",
      "_view_module_version": "1.2.0",
      "_view_name": "LayoutView",
      "align_content": null,
      "align_items": null,
      "align_self": null,
      "border": null,
      "bottom": null,
      "display": null,
      "flex": null,
      "flex_flow": null,
      "grid_area": null,
      "grid_auto_columns": null,
      "grid_auto_flow": null,
      "grid_auto_rows": null,
      "grid_column": null,
      "grid_gap": null,
      "grid_row": null,
      "grid_template_areas": null,
      "grid_template_columns": null,
      "grid_template_rows": null,
      "height": null,
      "justify_content": null,
      "justify_items": null,
      "left": null,
      "margin": null,
      "max_height": null,
      "max_width": null,
      "min_height": null,
      "min_width": null,
      "object_fit": null,
      "object_position": null,
      "order": null,
      "overflow": null,
      "overflow_x": null,
      "overflow_y": null,
      "padding": null,
      "right": null,
      "top": null,
      "visibility": null,
      "width": null
     }
    }
   }
  }
 },
 "nbformat": 4,
 "nbformat_minor": 1
}
